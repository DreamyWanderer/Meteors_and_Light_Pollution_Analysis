{
 "cells": [
  {
   "cell_type": "markdown",
   "metadata": {},
   "source": [
    "<div style=\"text-align: center; background-color: #0A6EBD; font-family: 'Trebuchet MS', Arial, sans-serif; color: white; padding: 20px; font-size: 40px; font-weight: bold; border-radius: 0 0 0 0; box-shadow: 0px 6px 8px rgba(0, 0, 0, 0.2);\">\n",
    "  Data Science Project\n",
    "  <hr style=\"border-top: 1px solid #0A6EBD;\">\n",
    "  <i>Investigating Meteor-Related Phenomena<br>and their Association with Light Pollution</i>\n",
    "</div>"
   ]
  },
  {
   "cell_type": "markdown",
   "metadata": {},
   "source": [
    "<div style=\"text-align: center; background-color: #5A96E3; font-family: 'Trebuchet MS', Arial, sans-serif; color: white; padding: 20px; font-size: 40px; font-weight: bold; border-radius: 0 0 0 0; box-shadow: 0px 6px 8px rgba(0, 0, 0, 0.2);\">\n",
    "  Stage I - Data collecting\n",
    "</div>"
   ]
  },
  {
   "cell_type": "markdown",
   "metadata": {},
   "source": [
    "# Data Source\n",
    "\n",
    "## Meteors dataset\n",
    "\n",
    "1. [Global Meteor Network (GMN) ](https://www.lightpollutionmap.info/) and its [custom API](https://bolides.readthedocs.io/en/latest/reference/index.html)."
   ]
  },
  {
   "cell_type": "markdown",
   "metadata": {},
   "source": [
    "# Collecting Data and Push to MongoDB"
   ]
  },
  {
   "cell_type": "markdown",
   "metadata": {},
   "source": [
    "## Selected data attributes\n",
    "\n"
   ]
  },
  {
   "cell_type": "markdown",
   "metadata": {},
   "source": [
    "- `datetime`: Date and UTC time of the beginning of the meteor\n",
    "- `Vavg`: Average geocentric velocity of the meteor\n",
    "- `Duration`: Duration the meteor was observed\n",
    "- `Peak` and `PeakHt`: Peak absolute magnitude and height of the meteor\n",
    "- `Participating`: List of code of station that observed the meteor\n",
    "- `Num`: Number of stations that observed the meteor\n",
    "- `LatBeg` and `LonBeg`: The latitude and longtitude of the beginning of the meteor\n",
    "- `LatEnd` and `LongEnd`: The latitude and longtitude of the end of the meteor\n",
    "- `HtBeg` and `HtBeg`: The height of the beginning and the end of the meteor\n",
    "- `iau_code`: The IAU shower code.\n",
    "- `RAapp` and `DECapp`: The Right Ascestion and the declination of the radiant of the meteor.\n",
    "- `Masskg`: Mass in kilograms of the meteor"
   ]
  },
  {
   "cell_type": "code",
   "execution_count": 1,
   "metadata": {},
   "outputs": [],
   "source": [
    "usedAttributes = [\"datetime\", \"Vavg\", \"Duration\", \"Peak\", \"PeakHt\", \"Participating\", \"Num\", \"LatBeg\", \"LonBeg\", \"LatEnd\", \"LonEnd\", \"HtBeg\", \"HtEnd\", \"iau_code\", \"RAapp\", \"DECapp\", \"Masskg\"]"
   ]
  },
  {
   "cell_type": "markdown",
   "metadata": {},
   "source": [
    "## Collect data from GMN"
   ]
  },
  {
   "cell_type": "code",
   "execution_count": 2,
   "metadata": {},
   "outputs": [],
   "source": [
    "from bolides import BolideDataFrame\n",
    "from datetime import date, timedelta\n",
    "from pathlib import Path\n",
    "import json\n",
    "import logging\n",
    "import sys"
   ]
  },
  {
   "cell_type": "markdown",
   "metadata": {},
   "source": [
    "Set logger"
   ]
  },
  {
   "cell_type": "code",
   "execution_count": 3,
   "metadata": {},
   "outputs": [],
   "source": [
    "logger = logging.getLogger(__name__)\n",
    "logger.setLevel((logging.INFO))\n",
    "handler = logging.FileHandler(\"log.txt\")\n",
    "formatter = logging.Formatter('%(asctime)s - %(name)s - %(levelname)s - %(message)s')\n",
    "handler.setFormatter(formatter)\n",
    "\n",
    "# Check if logger already has a handler\n",
    "if not logger.handlers:\n",
    "    logger.addHandler(handler)"
   ]
  },
  {
   "cell_type": "markdown",
   "metadata": {},
   "source": [
    "Convert raw GMN data to .JSON format and push to database"
   ]
  },
  {
   "cell_type": "code",
   "execution_count": 4,
   "metadata": {},
   "outputs": [],
   "source": [
    "def convertGMNRawToJSON(GMNRaw, filePath: Path):\n",
    "    GMNRaw.to_json(filePath, date_format=\"iso\", date_unit=\"s\")\n",
    "\n",
    "def pushGMNRawToDatabase(GMNRaw):\n",
    "    pass"
   ]
  },
  {
   "cell_type": "markdown",
   "metadata": {},
   "source": [
    "Collect data from GMN with predefined date"
   ]
  },
  {
   "cell_type": "code",
   "execution_count": 5,
   "metadata": {},
   "outputs": [],
   "source": [
    "import sys\n",
    "\n",
    "\n",
    "def getGMNRawOfDate(date: str):\n",
    "    \"\"\"Get the observed meteors from GMN source in a specific date ()\n",
    "\n",
    "    Args:\n",
    "        date (str): date are string with form YYYY-MM-DD\n",
    "\n",
    "    Returns:\n",
    "        Unknown: the raw data of meteors in the date\n",
    "    \"\"\" \n",
    "    GMNRaw = BolideDataFrame(source = \"gmn\", date = date)\n",
    "\n",
    "    return GMNRaw\n",
    "\n",
    "def getGMNRawData(fromDate: date, toDate: date):\n",
    "    \"\"\"Get the observed meteors from GMN source in a rage of date\n",
    "    Args:\n",
    "        fromDate (date): the start date of the range, need to have year-month-day\n",
    "        toDate (date): the end date of the range, need to have year-month-day\n",
    "    \"\"\"    \n",
    "    delta = timedelta(days=1)\n",
    "    while fromDate <= toDate:\n",
    "        try:\n",
    "            GMNRaw = getGMNRawOfDate(fromDate.strftime(\"%Y-%m-%d\"))\n",
    "        except:\n",
    "            logger.error(f\"GMN data of {fromDate.strftime('%Y-%m-%d')} cannot be retrieved: {sys.exc_info()[1]}\")\n",
    "            fromDate += delta\n",
    "            continue\n",
    "\n",
    "        GMNRaw = GMNRaw[usedAttributes]\n",
    "        assert GMNRaw.columns.tolist() == usedAttributes\n",
    "\n",
    "        filePath = Path(f\"../data/raw/gmn/{fromDate.strftime('%Y-%m-%d')}.json\")\n",
    "        convertGMNRawToJSON(GMNRaw, filePath)\n",
    "        \n",
    "        fromDate += delta\n",
    "        logger.info(f\"GMN data of {fromDate.strftime('%Y-%m-%d')} downloaded\")"
   ]
  },
  {
   "cell_type": "code",
   "execution_count": null,
   "metadata": {},
   "outputs": [],
   "source": [
    "getGMNRawData(date(2018, 12, 10), date(2023, 12, 31))"
   ]
  },
  {
   "cell_type": "markdown",
   "metadata": {},
   "source": [
    "# Collecting data of light pollution"
   ]
  },
  {
   "cell_type": "markdown",
   "metadata": {},
   "source": [
    "Set up"
   ]
  },
  {
   "cell_type": "code",
   "execution_count": 7,
   "metadata": {},
   "outputs": [
    {
     "ename": "ModuleNotFoundError",
     "evalue": "No module named 'undetected_chromedriver'",
     "output_type": "error",
     "traceback": [
      "\u001b[1;31m---------------------------------------------------------------------------\u001b[0m",
      "\u001b[1;31mModuleNotFoundError\u001b[0m                       Traceback (most recent call last)",
      "Cell \u001b[1;32mIn[7], line 1\u001b[0m\n\u001b[1;32m----> 1\u001b[0m \u001b[38;5;28;01mimport\u001b[39;00m \u001b[38;5;21;01mundetected_chromedriver\u001b[39;00m \u001b[38;5;28;01mas\u001b[39;00m \u001b[38;5;21;01muc\u001b[39;00m \n\u001b[0;32m      2\u001b[0m \u001b[38;5;28;01mfrom\u001b[39;00m \u001b[38;5;21;01mselenium\u001b[39;00m\u001b[38;5;21;01m.\u001b[39;00m\u001b[38;5;21;01mwebdriver\u001b[39;00m\u001b[38;5;21;01m.\u001b[39;00m\u001b[38;5;21;01mcommon\u001b[39;00m\u001b[38;5;21;01m.\u001b[39;00m\u001b[38;5;21;01mby\u001b[39;00m \u001b[38;5;28;01mimport\u001b[39;00m By\n\u001b[0;32m      3\u001b[0m \u001b[38;5;28;01mfrom\u001b[39;00m \u001b[38;5;21;01mselenium\u001b[39;00m\u001b[38;5;21;01m.\u001b[39;00m\u001b[38;5;21;01mwebdriver\u001b[39;00m\u001b[38;5;21;01m.\u001b[39;00m\u001b[38;5;21;01mchrome\u001b[39;00m\u001b[38;5;21;01m.\u001b[39;00m\u001b[38;5;21;01moptions\u001b[39;00m \u001b[38;5;28;01mimport\u001b[39;00m Options\n",
      "\u001b[1;31mModuleNotFoundError\u001b[0m: No module named 'undetected_chromedriver'"
     ]
    }
   ],
   "source": [
    "import undetected_chromedriver as uc \n",
    "from selenium.webdriver.common.by import By\n",
    "from selenium.webdriver.chrome.options import Options\n",
    "from selenium.webdriver.support.wait import WebDriverWait\n",
    "from selenium.webdriver.support import expected_conditions as EC"
   ]
  }
 ],
 "metadata": {
  "kernelspec": {
   "display_name": "[Course]-meteors-project",
   "language": "python",
   "name": "python3"
  },
  "language_info": {
   "codemirror_mode": {
    "name": "ipython",
    "version": 3
   },
   "file_extension": ".py",
   "mimetype": "text/x-python",
   "name": "python",
   "nbconvert_exporter": "python",
   "pygments_lexer": "ipython3",
   "version": "3.11.7"
  }
 },
 "nbformat": 4,
 "nbformat_minor": 2
}
