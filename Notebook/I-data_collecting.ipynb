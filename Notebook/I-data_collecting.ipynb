{
 "cells": [
  {
   "cell_type": "markdown",
   "metadata": {},
   "source": [
    "<div style=\"text-align: center; background-color: #0A6EBD; font-family: 'Trebuchet MS', Arial, sans-serif; color: white; padding: 20px; font-size: 40px; font-weight: bold; border-radius: 0 0 0 0; box-shadow: 0px 6px 8px rgba(0, 0, 0, 0.2);\">\n",
    "  Data Science Project\n",
    "  <hr style=\"border-top: 1px solid #0A6EBD;\">\n",
    "  <i>Investigating Meteor-Related Phenomena<br>and their Association with Light Pollution</i>\n",
    "</div>"
   ]
  },
  {
   "cell_type": "markdown",
   "metadata": {},
   "source": [
    "<div style=\"text-align: center; background-color: #5A96E3; font-family: 'Trebuchet MS', Arial, sans-serif; color: white; padding: 20px; font-size: 40px; font-weight: bold; border-radius: 0 0 0 0; box-shadow: 0px 6px 8px rgba(0, 0, 0, 0.2);\">\n",
    "  Stage I - Data collecting\n",
    "</div>"
   ]
  },
  {
   "cell_type": "markdown",
   "metadata": {},
   "source": [
    "# Data Source\n",
    "\n",
    "## Meteors dataset\n",
    "\n",
    "1. [Global Meteor Network (GMN) ](https://www.lightpollutionmap.info/) and its [custom API](https://bolides.readthedocs.io/en/latest/reference/index.html)."
   ]
  },
  {
   "cell_type": "markdown",
   "metadata": {},
   "source": [
    "# Collecting Data and Push to MongoDB"
   ]
  },
  {
   "cell_type": "markdown",
   "metadata": {},
   "source": [
    "## Selected data attributes\n",
    "\n"
   ]
  },
  {
   "cell_type": "markdown",
   "metadata": {},
   "source": [
    "- `datetime`: Date and UTC time of the beginning of the meteor\n",
    "- `Vavg`: Average geocentric velocity of the meteor\n",
    "- `Duration`: Duration the meteor was observed\n",
    "- `Peak` and `PeakHt`: Peak absolute magnitude and height of the meteor\n",
    "- `Participating`: List of code of station that observed the meteor\n",
    "- `Num`: Number of stations that observed the meteor\n",
    "- `LatBeg` and `LonBeg`: The latitude and longtitude of the beginning of the meteor\n",
    "- `LatEnd` and `LongEnd`: The latitude and longtitude of the end of the meteor\n",
    "- `HtBeg` and `HtBeg`: The height of the beginning and the end of the meteor\n",
    "- `iau_code`: The IAU shower code.\n",
    "- `RAapp` and `DECapp`: The Right Ascestion and the declination of the radiant of the meteor.\n",
    "- `Masskg`: Mass in kilograms of the meteor"
   ]
  },
  {
   "cell_type": "code",
   "execution_count": 1,
   "metadata": {},
   "outputs": [],
   "source": [
    "usedAttributes = [\"datetime\", \"Vavg\", \"Duration\", \"Peak\", \"PeakHt\", \"Participating\", \"Num\", \"LatBeg\", \"LonBeg\", \"LatEnd\", \"LonEnd\", \"HtBeg\", \"HtEnd\", \"iau_code\", \"RAapp\", \"DECapp\", \"Masskg\"]"
   ]
  },
  {
   "cell_type": "markdown",
   "metadata": {},
   "source": [
    "## Collect data from GMN"
   ]
  },
  {
   "cell_type": "code",
   "execution_count": 2,
   "metadata": {},
   "outputs": [],
   "source": [
    "from bolides import BolideDataFrame\n",
    "from datetime import date, timedelta\n",
    "from pathlib import Path\n",
    "import json\n",
    "import logging\n",
    "import sys"
   ]
  },
  {
   "cell_type": "markdown",
   "metadata": {},
   "source": [
    "Set logger"
   ]
  },
  {
   "cell_type": "code",
   "execution_count": 3,
   "metadata": {},
   "outputs": [],
   "source": [
    "logger = logging.getLogger(__name__)\n",
    "logger.setLevel((logging.INFO))\n",
    "handler = logging.FileHandler(\"log.txt\")\n",
    "formatter = logging.Formatter('%(asctime)s - %(name)s - %(levelname)s - %(message)s')\n",
    "handler.setFormatter(formatter)\n",
    "\n",
    "# Check if logger already has a handler\n",
    "if not logger.handlers:\n",
    "    logger.addHandler(handler)"
   ]
  },
  {
   "cell_type": "markdown",
   "metadata": {},
   "source": [
    "Convert raw GMN data to .JSON format and push to database"
   ]
  },
  {
   "cell_type": "code",
   "execution_count": 4,
   "metadata": {},
   "outputs": [],
   "source": [
    "def convertGMNRawToJSON(GMNRaw, filePath: Path):\n",
    "    GMNRaw.to_json(filePath, date_format=\"iso\", date_unit=\"s\")\n",
    "\n",
    "def pushGMNRawToDatabase(GMNRaw):\n",
    "    pass"
   ]
  },
  {
   "cell_type": "markdown",
   "metadata": {},
   "source": [
    "Collect data from GMN with predefined date"
   ]
  },
  {
   "cell_type": "code",
   "execution_count": 5,
   "metadata": {},
   "outputs": [],
   "source": [
    "import sys\n",
    "\n",
    "\n",
    "def getGMNRawOfDate(date: str):\n",
    "    \"\"\"Get the observed meteors from GMN source in a specific date ()\n",
    "\n",
    "    Args:\n",
    "        date (str): date are string with form YYYY-MM-DD\n",
    "\n",
    "    Returns:\n",
    "        Unknown: the raw data of meteors in the date\n",
    "    \"\"\" \n",
    "    GMNRaw = BolideDataFrame(source = \"gmn\", date = date)\n",
    "\n",
    "    return GMNRaw\n",
    "\n",
    "def getGMNRawData(fromDate: date, toDate: date):\n",
    "    \"\"\"Get the observed meteors from GMN source in a rage of date\n",
    "    Args:\n",
    "        fromDate (date): the start date of the range, need to have year-month-day\n",
    "        toDate (date): the end date of the range, need to have year-month-day\n",
    "    \"\"\"    \n",
    "    delta = timedelta(days=1)\n",
    "    while fromDate <= toDate:\n",
    "        try:\n",
    "            GMNRaw = getGMNRawOfDate(fromDate.strftime(\"%Y-%m-%d\"))\n",
    "        except:\n",
    "            logger.error(f\"GMN data of {fromDate.strftime('%Y-%m-%d')} cannot be retrieved: {sys.exc_info()[1]}\")\n",
    "            fromDate += delta\n",
    "            continue\n",
    "\n",
    "        GMNRaw = GMNRaw[usedAttributes]\n",
    "        assert GMNRaw.columns.tolist() == usedAttributes\n",
    "\n",
    "        filePath = Path(f\"../data/raw/gmn/{fromDate.strftime('%Y-%m-%d')}.json\")\n",
    "        convertGMNRawToJSON(GMNRaw, filePath)\n",
    "        \n",
    "        fromDate += delta\n",
    "        logger.info(f\"GMN data of {fromDate.strftime('%Y-%m-%d')} downloaded\")"
   ]
  },
  {
   "cell_type": "code",
   "execution_count": null,
   "metadata": {},
   "outputs": [],
   "source": [
    "getGMNRawData(date(2018, 12, 10), date(2023, 12, 31))"
   ]
  },
  {
   "cell_type": "markdown",
   "metadata": {},
   "source": [
    "# Collecting data of light pollution"
   ]
  },
  {
   "cell_type": "markdown",
   "metadata": {},
   "source": [
    "Set up"
   ]
  },
  {
   "cell_type": "code",
   "execution_count": 238,
   "metadata": {},
   "outputs": [],
   "source": [
    "from selenium import webdriver\n",
    "from selenium.webdriver.common.by import By\n",
    "from selenium.webdriver.chrome.options import Options\n",
    "from selenium.webdriver.support.wait import WebDriverWait\n",
    "from selenium.webdriver.support import expected_conditions as EC\n",
    "from selenium.webdriver.common.action_chains import ActionChains\n",
    "import re\n",
    "import time\n",
    "import numpy as np"
   ]
  },
  {
   "cell_type": "markdown",
   "metadata": {},
   "source": [
    "Retrieve the brightness of coordinate"
   ]
  },
  {
   "cell_type": "code",
   "execution_count": 192,
   "metadata": {},
   "outputs": [],
   "source": [
    "zoom = 10\n",
    "URL = f\"https://djlorenz.github.io/astronomy/lp2022/overlay/dark.html\"\n",
    "timeOut = 5"
   ]
  },
  {
   "cell_type": "code",
   "execution_count": 252,
   "metadata": {},
   "outputs": [],
   "source": [
    "def extractBrightness(text):\n",
    "    match = re.search(r\"Brightness:\\s+(\\d+\\.\\d+)\", text)\n",
    "\n",
    "    if match:\n",
    "        return match.group(1)\n",
    "\n",
    "def initDriver():\n",
    "    chrome_options = Options()\n",
    "    chrome_options.add_argument(\"--headless\") # Work around as compatibility issue between Chrome and Selenium. When add \"--headless\", uc uses headLess boolean itself. If it is not set, uc uses headLess boolean from chrome_options (which is now deprecated)\n",
    "    chrome_options.page_load_strategy = 'none'\n",
    "    driver = webdriver.Chrome(options = chrome_options) \n",
    "\n",
    "    driver.get(URL)\n",
    "    driver.implicitly_wait(5)\n",
    "\n",
    "    return driver\n",
    "\n",
    "def getBrightness(driver, lat, lon):\n",
    "    # Click the button with class \"leaflet-searchbox-button leaflet-searchbox-button-right\"\n",
    "    WebDriverWait(driver, timeOut).until(EC.element_to_be_clickable((By.CSS_SELECTOR, \".leaflet-searchbox-button.leaflet-searchbox-button-right\"))).click()\n",
    "    # Type from keyboard the lat and lon, then press enter\n",
    "    ActionChains(driver).send_keys(f\"{lat},{lon}\").perform()\n",
    "    ActionChains(driver).send_keys(u'\\ue007').perform()\n",
    "    # Click the mouse in the center of screen\n",
    "    window_size = driver.get_window_size()\n",
    "    position = (window_size['width'] / 2, window_size['height'] / 2)\n",
    "    time.sleep(1)\n",
    "    if (lat == -65 and lon == -360):\n",
    "        ActionChains(driver).move_by_offset(*position).click().perform()\n",
    "    \n",
    "    # Get the div with class \"leaflet-popup-content\" then print the text\n",
    "    driver.save_screenshot(\"screenshot.png\")\n",
    "    text = WebDriverWait(driver, timeOut).until(EC.visibility_of_element_located((By.CSS_SELECTOR, \".leaflet-popup-content\"))).text\n",
    "\n",
    "    return extractBrightness(text)"
   ]
  },
  {
   "cell_type": "code",
   "execution_count": null,
   "metadata": {},
   "outputs": [],
   "source": [
    "driver = initDriver()\n",
    "\n",
    "lat_start, lat_end = -65, 75\n",
    "lon_start, lon_end = -360, 360\n",
    "step = 0.1\n",
    "\n",
    "for lat in np.arange(lat_start, lat_end, step):\n",
    "    for lon in np.arange(lon_start, lon_end, step):\n",
    "        print(f\"Latitude: {lat}, Longitude: {lon}, Brightness: {getBrightness(driver, lat, lon)}\")\n",
    "\n",
    "driver.quit()"
   ]
  }
 ],
 "metadata": {
  "kernelspec": {
   "display_name": "[Course]-meteors-project",
   "language": "python",
   "name": "python3"
  },
  "language_info": {
   "codemirror_mode": {
    "name": "ipython",
    "version": 3
   },
   "file_extension": ".py",
   "mimetype": "text/x-python",
   "name": "python",
   "nbconvert_exporter": "python",
   "pygments_lexer": "ipython3",
   "version": "3.11.7"
  }
 },
 "nbformat": 4,
 "nbformat_minor": 2
}
